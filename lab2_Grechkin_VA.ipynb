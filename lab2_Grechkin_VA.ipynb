{
 "cells": [
  {
   "cell_type": "markdown",
   "id": "6b1737be",
   "metadata": {},
   "source": [
    "# Лабораторная работа №2\n",
    "# Выполнил студент группы А-08-22\n",
    "# Гречкин Владислав\n",
    "# Вариант 5\n",
    "<hr>"
   ]
  },
  {
   "cell_type": "markdown",
   "id": "b9abc61c",
   "metadata": {},
   "source": [
    "## Задача 1.  \n",
    "Локализуйте максимальный вещественный корень уравнения $f(x)=0$ и найдите его\n",
    "с точностью $\\varepsilon$ , используя средства языка Python.\n"
   ]
  },
  {
   "cell_type": "markdown",
   "id": "53b1a747",
   "metadata": {},
   "source": [
    "Исходные данные:  \n",
    "$N = 5$  \n",
    "$f(x) = 1.5x^3 - 8.4x^2 - 16x + 2$  \n",
    "$\\varepsilon = 10^{-9}$   \n"
   ]
  },
  {
   "cell_type": "markdown",
   "id": "12d27742",
   "metadata": {},
   "source": [
    "1. Построим график заданной функции, используя средства библиотеки <strong>matplotlib</strong>. По\n",
    "графику определим отрезок локализации и начальное приближение для искомого корня. "
   ]
  },
  {
   "cell_type": "code",
   "execution_count": 106,
   "id": "c54cabd7",
   "metadata": {
    "scrolled": false
   },
   "outputs": [
    {
     "data": {
      "text/plain": [
       "<matplotlib.legend.Legend at 0x1ff3fde5210>"
      ]
     },
     "execution_count": 106,
     "metadata": {},
     "output_type": "execute_result"
    },
    {
     "data": {
      "image/png": "[encoded data removed]",
      "text/plain": [
       "<Figure size 640x480 with 1 Axes>"
      ]
     },
     "metadata": {},
     "output_type": "display_data"
    }
   ],
   "source": [
    "import numpy as np\n",
    "import matplotlib.pyplot as plt \n",
    "\n",
    "def f(x):\n",
    "    return 1.5*x**3 - 8.4*x**2-16*x+2\n",
    "#def df(x): # производная функции\n",
    "#    return 4.5*x**2 - 84/5*x - 16\n",
    "\n",
    "x = np.linspace(-3.0,8,40) # создаем последовательность из 40 равномерно распределленных точек\n",
    "plt.grid(True) #показываем линии сетки\n",
    "plt.plot(x,f(x),color = 'blue',label = 'функция') # строим график функции\n",
    "#plt.plot(x,df(x),color = 'red',label = 'производная',ls='',marker='.',markersize=12)\n",
    "plt.legend() # выводим легенду"
   ]
  },
  {
   "cell_type": "markdown",
   "id": "9ede7027",
   "metadata": {},
   "source": [
    "Из графика выберем отрезком локализации максимального корня отрезок $[6,8]$ => начальное приближение $x_{0} = \\frac{6+8}{2} = 7$ "
   ]
  },
  {
   "cell_type": "markdown",
   "id": "58f6bf6a",
   "metadata": {},
   "source": [
    "2. Найдем корень, используя библиотечную функцию <strong>scipy.optimize.newton()</strong>.\n",
    "И найдем тот же корень, используя библиотечную функцию <strong>scipy.optimize.newton()</strong> с\n",
    "передаваемой в нее производной. "
   ]
  },
  {
   "cell_type": "code",
   "execution_count": 15,
   "id": "226325ad",
   "metadata": {},
   "outputs": [
    {
     "name": "stdout",
     "output_type": "stream",
     "text": [
      "Метод секущих:\n",
      " (7.079993291008025,       converged: True\n",
      "           flag: converged\n",
      " function_calls: 6\n",
      "     iterations: 5\n",
      "           root: 7.079993291008025)\n",
      "Метод Ньютона:\n",
      " (7.079993291008025,       converged: True\n",
      "           flag: converged\n",
      " function_calls: 8\n",
      "     iterations: 4\n",
      "           root: 7.079993291008025)\n"
     ]
    }
   ],
   "source": [
    "from scipy.optimize import newton\n",
    "\n",
    "def df(x): # производная функции\n",
    "    return 4.5*x**2 - 84/5*x - 16\n",
    "\n",
    "x0 = 7 # начальное приближение \n",
    "res1 = newton(f,x0,tol=1e-9,full_output=True) # метод секущих\n",
    "res2 = newton(f,x0,tol=1e-9,full_output=True,fprime=df) #метод Ньютона, с передаваемой производной\n",
    "\n",
    "print('Метод секущих:\\n',res1)\n",
    "print('Метод Ньютона:\\n',res2)\n",
    "\n"
   ]
  },
  {
   "cell_type": "markdown",
   "id": "8d8d60b1",
   "metadata": {},
   "source": [
    " Проконтролировал совпадение результатов."
   ]
  },
  {
   "cell_type": "markdown",
   "id": "683ea285",
   "metadata": {},
   "source": [
    "## Задача 2.  \n",
    "Даны два уравнения $f(x)=0$ и $g(x)=0$. Найдите с точностью\n",
    "$\\varepsilon = 10^{-10}$ все их корни,\n",
    "содержащиеся на отрезке $[a, b]$. Для решения задачи реализуйте программно метод бисекции. "
   ]
  },
  {
   "cell_type": "markdown",
   "id": "a12d1554",
   "metadata": {},
   "source": [
    "Исходные данные:  \n",
    "\n",
    "$N = 5$  \n",
    "$f(x) = (cosx)^2 - (\\frac{1}{\\sqrt2} + \\frac{1}{4})cosx+\\frac{1}{4\\sqrt2}$  \n",
    "$g(x) = (cosx)^2 - \\frac{2}{\\sqrt2}cosx + \\frac{1}{2}$  \n",
    "$[a,b] = [0,1.5]$\n",
    "\n"
   ]
  },
  {
   "cell_type": "markdown",
   "id": "7d29a59b",
   "metadata": {},
   "source": [
    "1. Найдем аналитическое решение $f(x) = 0$ :  \n",
    "$x = \\frac{\\pi}{4}+2\\pi k$  \n",
    "$x = \\frac{7\\pi}{4}+2\\pi k$   \n",
    "$x \\approx 1.31812+2\\pi k$  \n",
    "$x \\approx -1.31812+2\\pi k$  \n",
    "На отрезке $[a,b]$ это корень $\\frac{\\pi}{4}$\n",
    "2.  Составим программу для нахождения корня с заданной точностью методом бисекции, с ее\n",
    "помощью найдем корни уравнения с заданной точностью. \n"
   ]
  },
  {
   "cell_type": "code",
   "execution_count": 104,
   "id": "f563de33",
   "metadata": {},
   "outputs": [
    {
     "name": "stdout",
     "output_type": "stream",
     "text": [
      "Корень уравнения: 0.785398163337959\n"
     ]
    }
   ],
   "source": [
    "from math import sin,cos,fabs\n",
    "def f(x):\n",
    "    return (cos(x))**2 - (1/2**0.5 + 1/4)*cos(x) + 1/(4*2**0.5)\n",
    "    \n",
    "e = 10**(-10) # заданная точность\n",
    "def half_met(a,b,f):\n",
    "    \n",
    "    while b-a > 2*e:\n",
    "        x = (a+b)/2 # ищем приближение\n",
    "        if f(a)*f(x) < 0: # проверяем знаки значений функции\n",
    "            a,b = a,x # берем левую половину\n",
    "        else:\n",
    "            a,b = x,b # берем правую половину\n",
    "    return (a+b)/2\n",
    "print(f'Корень уравнения: {half_met(0,1.5,f)}')"
   ]
  },
  {
   "cell_type": "markdown",
   "id": "1dd0aa62",
   "metadata": {},
   "source": [
    "3. Используя библиотечную функцию <strong>scipy.optimize.root()</strong>., найдем корни уравнения $f(x)=0$ с\n",
    "заданной точностью. Сравним полученные результаты. "
   ]
  },
  {
   "cell_type": "code",
   "execution_count": 72,
   "id": "69f90a7c",
   "metadata": {},
   "outputs": [
    {
     "name": "stdout",
     "output_type": "stream",
     "text": [
      "Корень уравнения методом бисекции: 0.785398163337959\n",
      "С помощью функции root: 0.7853981633974483\n"
     ]
    }
   ],
   "source": [
    "from scipy.optimize import root \n",
    "x0 = (0+1.5)/2\n",
    "Q = root(f,x0)\n",
    "x_res = Q.x[0]\n",
    "\n",
    "\n",
    "print(f'Корень уравнения методом бисекции: {half_met(0,1.5,f)}')\n",
    "print('С помощью функции root:',x_res)"
   ]
  },
  {
   "cell_type": "markdown",
   "id": "0f5660de",
   "metadata": {},
   "source": [
    "Сравнивая эти два результата, можно сделать вывод, что программа для нахождения корня с заданной точностью методом бисекции выполнена верно."
   ]
  },
  {
   "cell_type": "markdown",
   "id": "7e80afb8",
   "metadata": {},
   "source": [
    "Аналогично выполним алгоритм для функции $g(x)$"
   ]
  },
  {
   "cell_type": "markdown",
   "id": "47e31366",
   "metadata": {},
   "source": [
    "1. Найдем аналитическое решение $g(x) = 0$ :  \n",
    "$x = \\frac{\\pi}{4}+2\\pi k$  \n",
    "$x = \\frac{7\\pi}{4}+2\\pi k$  "
   ]
  },
  {
   "cell_type": "markdown",
   "id": "4dd93ee9",
   "metadata": {},
   "source": [
    "2. Выполним программу для функции $g(x)$"
   ]
  },
  {
   "cell_type": "code",
   "execution_count": 105,
   "id": "6ab8a899",
   "metadata": {},
   "outputs": [
    {
     "name": "stdout",
     "output_type": "stream",
     "text": [
      "Корень уравнения методом бисекции: 1.4999999999126885\n",
      "С помощью функции root: 0.7853981519016863\n"
     ]
    }
   ],
   "source": [
    "def g(x):\n",
    "    return (cos(x))**2 - 2/2**0.5*cos(x) + 1/2\n",
    "x0 = (0+1.5)/2\n",
    "Q = root(g,x0)\n",
    "x_res_g = Q.x[0]\n",
    "print(f'Корень уравнения методом бисекции: {half_met(0,1.5,g)}')\n",
    "print('С помощью функции root:',x_res_g)\n"
   ]
  },
  {
   "cell_type": "markdown",
   "id": "a8a96c88",
   "metadata": {},
   "source": [
    "Получили разные ответы. Это произошло потому что функция $g(x)$ на отрезке $[0,1.5]$ обращается в ноль в точке $\\frac{\\pi}{4}$, но на этом отрезке она \"полностью лежит\" выше нуля, то есть не меняет знак, поэтому мы выбирали постоянно правую половину отрещка и из-за этого метод бисекции выдает неправильный результат, так как для него необходимо, чтобы функция монотонно возрастала или убывала на отрезке локализации"
   ]
  },
  {
   "cell_type": "markdown",
   "id": "69cfb940",
   "metadata": {},
   "source": [
    "## Задача 3\n",
    "Методом простой итерации найти <u>все вещественные корни</u> уравнения из задачи 1 c точностью $\\varepsilon = 10^{-13}$. Проследить за поведением погрешности. "
   ]
  },
  {
   "cell_type": "markdown",
   "id": "c8eaa9cb",
   "metadata": {},
   "source": [
    "$f(x) = 1.5x^3 - 8.4x^2 - 16x + 2$"
   ]
  },
  {
   "cell_type": "markdown",
   "id": "6bb41dce",
   "metadata": {},
   "source": [
    "1.  Локализуем все вещественные корни заданного уравнения. Для этого сделаем табулирование функции и производной."
   ]
  },
  {
   "cell_type": "code",
   "execution_count": 112,
   "id": "71a9c2ca",
   "metadata": {},
   "outputs": [
    {
     "name": "stdout",
     "output_type": "stream",
     "text": [
      "+---------------------+---------------------+\n",
      "|          x          |         f(x)        |\n",
      "+---------------------+---------------------+\n",
      "|         -4.0        |        -164.4       |\n",
      "| -3.7966101694915255 | -140.42185228285268 |\n",
      "|  -3.593220338983051 | -118.55218108959535 |\n",
      "|  -3.389830508474576 |  -98.71526300157271 |\n",
      "| -3.1864406779661016 |  -80.83537460012951 |\n",
      "|  -2.983050847457627 |  -64.8367924666105  |\n",
      "| -2.7796610169491522 |  -50.6437931823604  |\n",
      "| -2.5762711864406778 |  -38.18065332872397 |\n",
      "| -2.3728813559322033 |  -27.3716494870459  |\n",
      "|  -2.169491525423729 |  -18.14105823867095 |\n",
      "| -1.9661016949152543 | -10.413156164943842 |\n",
      "| -1.7627118644067794 |  -4.112219847209303 |\n",
      "|  -1.559322033898305 |  0.8374741331879143 |\n",
      "| -1.3559322033898304 |  4.511649194903082  |\n",
      "| -1.1525423728813555 |  6.986028756591475  |\n",
      "|  -0.949152542372881 |   8.33633623690835  |\n",
      "| -0.7457627118644066 |   8.63829505450898  |\n",
      "| -0.5423728813559321 |  7.967628628048631  |\n",
      "| -0.3389830508474576 |  6.400060376182569  |\n",
      "| -0.1355932203389827 |  4.011313717566056  |\n",
      "| 0.06779661016949134 |  0.8771120708543747 |\n",
      "| 0.27118644067796627 |  -2.926821145297234 |\n",
      "|  0.4745762711864412 |  -7.324762512233493 |\n",
      "|  0.6779661016949152 | -12.240988611299109 |\n",
      "|  0.8813559322033901 | -17.599776023838864 |\n",
      "|  1.084745762711865  |  -23.32540133119746 |\n",
      "|  1.288135593220339  |  -29.34214111471962 |\n",
      "|  1.491525423728814  |  -35.57427195575012 |\n",
      "|  1.694915254237289  |  -41.94607043563366 |\n",
      "|  1.898305084745763  |  -48.38181313571496 |\n",
      "|  2.101694915254238  | -54.805776637338795 |\n",
      "|  2.305084745762712  |  -61.14223752184985 |\n",
      "|  2.508474576271187  |  -67.31547237059291 |\n",
      "|  2.711864406779662  |  -73.24975776491269 |\n",
      "|  2.915254237288136  |  -78.8693702861539  |\n",
      "|  3.1186440677966107 |  -84.09858651566131 |\n",
      "|  3.3220338983050848 |  -88.86168303477959 |\n",
      "|  3.5254237288135597 |  -93.08293642485357 |\n",
      "|  3.7288135593220346 |  -96.68662326722792 |\n",
      "|  3.9322033898305087 |  -99.59702014324739 |\n",
      "|  4.135593220338983  | -101.73840363425667 |\n",
      "|  4.3389830508474585 | -103.03505032160058 |\n",
      "|  4.5423728813559325 | -103.41123678662376 |\n",
      "|  4.745762711864407  | -102.79123961067103 |\n",
      "|  4.949152542372882  | -101.09933537508704 |\n",
      "|  5.152542372881356  |  -98.25980066121656 |\n",
      "|  5.3559322033898304 |  -94.19691205040439 |\n",
      "|  5.559322033898306  |  -88.83494612399514 |\n",
      "|   5.76271186440678  |  -82.0981794633336  |\n",
      "|  5.966101694915254  |  -73.91088864976459 |\n",
      "|   6.16949152542373  |  -64.19735026463269 |\n",
      "|  6.372881355932204  |  -52.88184088928273 |\n",
      "|  6.576271186440678  |  -39.88863710505933 |\n",
      "|  6.779661016949154  |  -25.14201549330741 |\n",
      "|  6.983050847457628  |  -8.566252635371626 |\n",
      "|  7.186440677966102  |  9.914374887403284  |\n",
      "|  7.389830508474578  |  30.375590493672803 |\n",
      "|  7.593220338983052  |  52.89311760209188  |\n",
      "|  7.796610169491526  |  77.54267963131588  |\n",
      "|         8.0         |  104.39999999999998 |\n",
      "+---------------------+---------------------+\n",
      "+---------------------+---------------------+\n",
      "|          x          |        df(x)        |\n",
      "+---------------------+---------------------+\n",
      "|         -4.0        |  123.19999999999999 |\n",
      "| -3.7966101694915255 |  112.64717035334675 |\n",
      "|  -3.593220338983051 |  102.46664751508189 |\n",
      "|  -3.389830508474576 |   92.6584314852054  |\n",
      "| -3.1864406779661016 |  83.22252226371731  |\n",
      "|  -2.983050847457627 |  74.15891985061765  |\n",
      "| -2.7796610169491522 |  65.46762424590634  |\n",
      "| -2.5762711864406778 |  57.14863544958345  |\n",
      "| -2.3728813559322033 |  49.20195346164894  |\n",
      "|  -2.169491525423729 |  41.627578282102846 |\n",
      "| -1.9661016949152543 |  34.42550991094514  |\n",
      "| -1.7627118644067794 |  27.595748348175803 |\n",
      "|  -1.559322033898305 |  21.138293593794884 |\n",
      "| -1.3559322033898304 |  15.053145647802353 |\n",
      "| -1.1525423728813555 |  9.340304510198209  |\n",
      "|  -0.949152542372881 |  3.9997701809824697 |\n",
      "| -0.7457627118644066 | -0.9684573398448784 |\n",
      "| -0.5423728813559321 |  -5.564378052283828 |\n",
      "| -0.3389830508474576 |  -9.787991956334388 |\n",
      "| -0.1355932203389827 |  -13.63929905199656 |\n",
      "| 0.06779661016949134 | -17.118299339270322 |\n",
      "| 0.27118644067796627 | -20.224992818155705 |\n",
      "|  0.4745762711864412 | -22.959379488652694 |\n",
      "|  0.6779661016949152 | -25.321459350761273 |\n",
      "|  0.8813559322033901 | -27.311232404481473 |\n",
      "|  1.084745762711865  | -28.928698649813278 |\n",
      "|  1.288135593220339  |  -30.17385808675668 |\n",
      "|  1.491525423728814  | -31.046710715311697 |\n",
      "|  1.694915254237289  | -31.547256535478315 |\n",
      "|  1.898305084745763  | -31.675495547256535 |\n",
      "|  2.101694915254238  |  -31.43142775064637 |\n",
      "|  2.305084745762712  | -30.815053145647802 |\n",
      "|  2.508474576271187  | -29.826371732260846 |\n",
      "|  2.711864406779662  | -28.465383510485488 |\n",
      "|  2.915254237288136  | -26.732088480321742 |\n",
      "|  3.1186440677966107 | -24.626486641769603 |\n",
      "|  3.3220338983050848 | -22.148577994829076 |\n",
      "|  3.5254237288135597 | -19.298362539500147 |\n",
      "|  3.7288135593220346 | -16.075840275782816 |\n",
      "|  3.9322033898305087 | -12.481011203677099 |\n",
      "|  4.135593220338983  |   -8.513875323183   |\n",
      "|  4.3389830508474585 |  -4.174432634300473 |\n",
      "|  4.5423728813559325 |  0.5373168629703997 |\n",
      "|  4.745762711864407  |  5.621373168629688  |\n",
      "|  4.949152542372882  |  11.07773628267742  |\n",
      "|  5.152542372881356  |  16.90640620511347  |\n",
      "|  5.3559322033898304 |  23.107382935937963 |\n",
      "|  5.559322033898306  |  29.680666475150858 |\n",
      "|   5.76271186440678  |  36.62625682275211  |\n",
      "|  5.966101694915254  |  43.94415397874175  |\n",
      "|   6.16949152542373  |  51.63435794311984  |\n",
      "|  6.372881355932204  |  59.696868715886254 |\n",
      "|  6.576271186440678  |  68.13168629704106  |\n",
      "|  6.779661016949154  |  76.93881068658438  |\n",
      "|  6.983050847457628  |   86.118241884516   |\n",
      "|  7.186440677966102  |  95.66997989083598  |\n",
      "|  7.389830508474578  |  105.59402470554446 |\n",
      "|  7.593220338983052  |  115.89037632864125 |\n",
      "|  7.796610169491526  |  126.55903476012642 |\n",
      "|         8.0         |        137.6        |\n",
      "+---------------------+---------------------+\n"
     ]
    }
   ],
   "source": [
    "from prettytable import PrettyTable\n",
    "\n",
    "def f(x):\n",
    "    return 1.5*x**3 - 8.4*x**2-16*x+2\n",
    "def df(x): # производная функции\n",
    "    return 4.5*x**2 - 84/5*x - 16\n",
    "\n",
    "table_fx = PrettyTable()\n",
    "table_dfx = PrettyTable()\n",
    "table_fx.field_names = ['x','f(x)']\n",
    "table_dfx.field_names = ['x','df(x)']\n",
    "x = np.linspace(-4.0,8,60)\n",
    "for i in x:\n",
    "    table_fx.add_row([i,f(i)])\n",
    "    table_dfx.add_row([i,df(i)])\n",
    "print(table_fx)\n",
    "print(table_dfx)"
   ]
  },
  {
   "cell_type": "markdown",
   "id": "976586a1",
   "metadata": {},
   "source": [
    "С помощью табулирования и графиков функции из задания 1 получаем следующие отрезки локализации:  \n",
    "$[-1.76,-1.56]$, $[0,0.2]$, $[6.98,7.18]$"
   ]
  },
  {
   "cell_type": "markdown",
   "id": "52c3dc74",
   "metadata": {},
   "source": [
    "2. Построим расчетные формулы метода простой итерации с оптимальным параметром:  \n",
    "$x^{n+1} = x^n - \\alpha f(x^n)$, где $\\alpha = \\frac{2}{m + M}$, $m = min_{[a,b]} f^\\prime(x)$, $M = max_{[a,b]} f^\\prime(x)$,  \n",
    "$[a,b]$ - очередной отрезок локализации.\n",
    "\n",
    "2.1. Для отрезка $[−1.76,−1.56]$:  \n",
    "    $m = f^\\prime(b) = f^\\prime(-1.56) = 21.1$  \n",
    "    $M = f^\\prime(a) = f^\\prime(-1.76) = 27.5$  \n",
    "    \n",
    "2.2. Для отрезка $[0,0.2]$:  \n",
    "    $m = f^\\prime(b) = f^\\prime(0.2) = -19.8$  \n",
    "    $M = f^\\prime(a) = f^\\prime(0) = -16$  \n",
    "  \n",
    "2.3. Для отрезка $[6.98, 7.18]$:  \n",
    "    $m = f^\\prime(a) = f^\\prime(6.98) = 86$  \n",
    "    $M = f^\\prime(b) = f^\\prime(7.18) = 95.4$  \n",
    "    \n",
    "    "
   ]
  },
  {
   "cell_type": "markdown",
   "id": "f3fbea32",
   "metadata": {},
   "source": [
    "3. Составим программу для нахождения корня с заданной точностью методом простой итерации с оптимальным параметром."
   ]
  },
  {
   "cell_type": "code",
   "execution_count": 149,
   "id": "fbc48a6c",
   "metadata": {},
   "outputs": [],
   "source": [
    "def main1(left,right,m,M):\n",
    "\n",
    "\n",
    "    a = 2/(M+m) # альфа\n",
    "    q = abs((M-m)/(M+m))\n",
    "    e = 10**(-13) # заданная погрешность\n",
    "    x0 = (left+right)/2 #начальное приближение\n",
    "\n",
    "    Q = root(f,x0) # находим корень с помощью root\n",
    "    x_root = Q.x[0]\n",
    "    \n",
    "    def mpi(a,q,e,x0,my_table,x_root): # будем вносить данные в my_table для удобства\n",
    "        x1 = x0 \n",
    "        x2 = x1 - a*f(x1)\n",
    "        k = 1\n",
    "        while abs(x2-x1) > e*(1-q)/q:\n",
    "            x1 = x2 \n",
    "            x2 = x1 - a*f(x1)\n",
    "            d = abs(x_root - x1) # Апостериорная оценка погрешности\n",
    "            my_table.add_row([k,x1,d]) # добавляем строку в таблицу\n",
    "            k+=1\n",
    "        my_table.add_row([k,x2,abs(x_root - x2)])\n",
    "    print(f'Данные:\\na={a}, q = {q}\\ne={e}, x0 = {x0}')\n",
    "    table1 = PrettyTable() # создаем пустую таблицу\n",
    "    table1.field_names=['Номер итерации n','Приближение x^n','Апостериорная оценка погрешности']\n",
    "    mpi(a,q,e,x0,table1,x_root)\n",
    "    print(table1)\n"
   ]
  },
  {
   "cell_type": "markdown",
   "id": "baa746d3",
   "metadata": {},
   "source": [
    "<strong>3.1.</strong> Для отрезка локализации $[−1.76,−1.56]$ :"
   ]
  },
  {
   "cell_type": "code",
   "execution_count": 150,
   "id": "5248b9d7",
   "metadata": {},
   "outputs": [
    {
     "name": "stdout",
     "output_type": "stream",
     "text": [
      "Данные:\n",
      "a=0.0411522633744856, q = 0.13168724279835387\n",
      "e=1e-13, x0 = -1.6600000000000001\n",
      "+------------------+---------------------+----------------------------------+\n",
      "| Номер итерации n |   Приближение x^n   | Апостериорная оценка погрешности |\n",
      "+------------------+---------------------+----------------------------------+\n",
      "|        1         | -1.6003916049382716 |      0.0025376688840450523       |\n",
      "|        2         | -1.5980552122207226 |      0.00020127616649601165      |\n",
      "|        3         | -1.5978702021374664 |      1.6266083239901974e-05      |\n",
      "|        4         | -1.5978552525244882 |      1.3164702616919044e-06      |\n",
      "|        5         | -1.5978540426133354 |      1.0655910887003017e-07      |\n",
      "|        6         | -1.5978539446795275 |      8.625300917941559e-09       |\n",
      "|        7         | -1.5978539367523918 |      6.981653033477642e-10       |\n",
      "|        8         | -1.5978539361107387 |      5.651212831025987e-11       |\n",
      "|        9         | -1.5978539360588009 |       4.57434090606057e-12       |\n",
      "|        10        | -1.5978539360545965 |      3.6992631180510216e-13      |\n",
      "|        11        | -1.5978539360542563 |      2.9753977059954195e-14      |\n",
      "+------------------+---------------------+----------------------------------+\n"
     ]
    }
   ],
   "source": [
    "left = -1.76\n",
    "right = -1.56\n",
    "m = 21.1\n",
    "M = 27.5\n",
    "main1(left,right,m,M)"
   ]
  },
  {
   "cell_type": "markdown",
   "id": "a1f866c9",
   "metadata": {},
   "source": [
    "<strong>3.2.</strong> Для отрезка локализации $[0,0.2]$ :"
   ]
  },
  {
   "cell_type": "code",
   "execution_count": 151,
   "id": "ea171e78",
   "metadata": {},
   "outputs": [
    {
     "name": "stdout",
     "output_type": "stream",
     "text": [
      "Данные:\n",
      "a=-0.0558659217877095, q = 0.10614525139664807\n",
      "e=1e-13, x0 = 0.1\n",
      "+------------------+---------------------+----------------------------------+\n",
      "| Номер итерации n |   Приближение x^n   | Апостериорная оценка погрешности |\n",
      "+------------------+---------------------+----------------------------------+\n",
      "|        1         | 0.11773743016759777 |      0.00012321487860379732      |\n",
      "|        2         | 0.11786075916841703 |      1.1412221545548107e-07      |\n",
      "|        3         | 0.11786064493431303 |      1.1188854009969162e-10      |\n",
      "|        4         | 0.11786064504631123 |      1.0966227925734984e-13      |\n",
      "|        5         | 0.11786064504620143 |      1.3877787807814457e-16      |\n",
      "+------------------+---------------------+----------------------------------+\n"
     ]
    }
   ],
   "source": [
    "left = 0\n",
    "right = 0.2\n",
    "m = -19.8\n",
    "M = -16\n",
    "\n",
    "main1(left,right,m,M)"
   ]
  },
  {
   "cell_type": "markdown",
   "id": "6a399633",
   "metadata": {},
   "source": [
    "<strong>3.3.</strong> Для отрезка локализации $[6.98,7.18]$ :"
   ]
  },
  {
   "cell_type": "code",
   "execution_count": 152,
   "id": "04e3085d",
   "metadata": {},
   "outputs": [
    {
     "name": "stdout",
     "output_type": "stream",
     "text": [
      "Данные:\n",
      "a=0.011025358324145534, q = 0.05181918412348404\n",
      "e=1e-13, x0 = 7.08\n",
      "+------------------+--------------------+----------------------------------+\n",
      "| Номер итерации n |  Приближение x^n   | Апостериорная оценка погрешности |\n",
      "+------------------+--------------------+----------------------------------+\n",
      "|        1         | 7.079993296582138  |      5.5741145033039174e-09      |\n",
      "|        2         | 7.0799932910126655 |      4.6416204213528545e-12      |\n",
      "|        3         | 7.079993291008029  |      5.329070518200751e-15       |\n",
      "|        4         | 7.079993291008026  |      1.7763568394002505e-15      |\n",
      "+------------------+--------------------+----------------------------------+\n"
     ]
    }
   ],
   "source": [
    "left = 6.98\n",
    "right = 7.18\n",
    "m = 86\n",
    "M = 95.4\n",
    "\n",
    "main1(left,right,m,M)"
   ]
  },
  {
   "cell_type": "markdown",
   "id": "cc9459ba",
   "metadata": {},
   "source": [
    "4. Анализ результатов:  \n",
    "Точность $\\varepsilon = 10^{-13}$ достигается на:\n",
    "<ul> \n",
    "    <li>11 итерации в 3.1 </li>\n",
    "    <li> 5 итерации в 3.2 </li>\n",
    "    <li> 4 итерации в 3.3 </li>\n",
    "</ul> "
   ]
  },
  {
   "cell_type": "markdown",
   "id": "a7c70c96",
   "metadata": {},
   "source": [
    "Для последнего корня скорость работы по количеству итераций оказалась самой быстрой."
   ]
  },
  {
   "cell_type": "markdown",
   "id": "f01cf13f",
   "metadata": {},
   "source": [
    " Практическое значение знаменателя прогресии:  \n",
    "        для 3.1: $\\frac{2.9753977059954195e-14}{3.6992631180510216e-13} = 0.0804$  \n",
    "        для 3.2 = $0.00127$  \n",
    "        для 3.3 = $0.3333$"
   ]
  },
  {
   "cell_type": "markdown",
   "id": "5c48fe1f",
   "metadata": {},
   "source": [
    "Объясняем причину различия найденных выше\n",
    "значений для разных корней - количество итераций напрямую зависит\n",
    "от значения q, а оно в свою зависит от максимального и минимального\n",
    "значения производной на отрезке локализации функции."
   ]
  }
 ],
 "metadata": {
  "kernelspec": {
   "display_name": "Python 3 (ipykernel)",
   "language": "python",
   "name": "python3"
  },
  "language_info": {
   "codemirror_mode": {
    "name": "ipython",
    "version": 3
   },
   "file_extension": ".py",
   "mimetype": "text/x-python",
   "name": "python",
   "nbconvert_exporter": "python",
   "pygments_lexer": "ipython3",
   "version": "3.11.5"
  }
 },
 "nbformat": 4,
 "nbformat_minor": 5
}
